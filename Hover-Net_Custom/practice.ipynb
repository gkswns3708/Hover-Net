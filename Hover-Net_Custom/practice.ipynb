{
 "cells": [
  {
   "cell_type": "code",
   "execution_count": 1,
   "metadata": {},
   "outputs": [
    {
     "name": "stderr",
     "output_type": "stream",
     "text": [
      "/usr/local/lib/python3.8/dist-packages/tqdm/auto.py:22: TqdmWarning: IProgress not found. Please update jupyter and ipywidgets. See https://ipywidgets.readthedocs.io/en/stable/user_install.html\n",
      "  from .autonotebook import tqdm as notebook_tqdm\n"
     ]
    }
   ],
   "source": [
    "import numpy as np\n",
    "\n",
    "import torch\n",
    "import torch.nn as nn\n",
    "import torch.optim as optim\n",
    "from torch.utils.data import DataLoader\n",
    "\n",
    "from dataloader import trainloader\n",
    "from models.base_hovernet import targets\n",
    "\n",
    "\n",
    "import os\n",
    "import argparse\n",
    "import importlib\n",
    "from glob import glob\n",
    "from tqdm import tqdm\n",
    "\n",
    "from config import normal_Config, uniform_Config"
   ]
  },
  {
   "cell_type": "code",
   "execution_count": 2,
   "metadata": {},
   "outputs": [],
   "source": [
    "from dataloader import trainloader\n",
    "from models.base_hovernet import targets"
   ]
  },
  {
   "cell_type": "code",
   "execution_count": 3,
   "metadata": {},
   "outputs": [
    {
     "data": {
      "text/plain": [
       "{'input_shape': [270, 270], 'mask_shape': [80, 80]}"
      ]
     },
     "execution_count": 3,
     "metadata": {},
     "output_type": "execute_result"
    }
   ],
   "source": [
    "data = normal_Config['shape_info'][normal_Config['run_mode']]\n",
    "data"
   ]
  },
  {
   "cell_type": "code",
   "execution_count": 4,
   "metadata": {},
   "outputs": [
    {
     "name": "stdout",
     "output_type": "stream",
     "text": [
      "Using device: cuda\n",
      "Loading dataset...\n"
     ]
    }
   ],
   "source": [
    "device = torch.device('cuda' if torch.cuda.is_available() else 'cpu')\n",
    "print(f\"Using device: {device}\")\n",
    "# Set random seed\n",
    "torch.manual_seed(normal_Config['seed'])\n",
    "np.random.seed(normal_Config['seed'])\n",
    "# Load dataset\n",
    "print(\"Loading dataset...\")\n",
    "\n",
    "run_mode  = normal_Config['run_mode']\n",
    "input_dataset = trainloader.FileLoader(\n",
    "    glob(os.path.join(normal_Config['dataset_path'], '*.npy')),     \n",
    "    mode=normal_Config['run_mode'],\n",
    "    with_type=normal_Config['with_type'],\n",
    "    setup_augmentor=True, # 이거 True / False 차이 알아보기\n",
    "    target_gen=[targets.gen_targets, {}],\n",
    "    **normal_Config['shape_info'][normal_Config['run_mode']]\n",
    ")\n",
    "dataloader = DataLoader(\n",
    "    input_dataset,\n",
    "    num_workers=2,\n",
    "    batch_size=normal_Config['batch_size'],\n",
    "    shuffle=normal_Config['run_mode'] == \"train\",\n",
    "    drop_last=normal_Config['run_mode'] == \"train\",\n",
    "    # worker_init_fn=worker_init_fn, # TODO: multiGPU에서 \n",
    ")"
   ]
  },
  {
   "cell_type": "code",
   "execution_count": 13,
   "metadata": {},
   "outputs": [
    {
     "name": "stdout",
     "output_type": "stream",
     "text": [
      "378\n"
     ]
    },
    {
     "name": "stderr",
     "output_type": "stream",
     "text": [
      "/mnt/Hover-Net/Hover-Net_Custom/models/base_hovernet/targets.py:33: UserWarning: Only one label was provided to `remove_small_objects`. Did you mean to use a boolean array?\n",
      "  crop_ann = morph.remove_small_objects(crop_ann, min_size=30)\n"
     ]
    },
    {
     "name": "stdout",
     "output_type": "stream",
     "text": [
      "[0 1 2 3 4 5 6 7]\n"
     ]
    }
   ],
   "source": [
    "# dict_keys(['img', 'tp_map', 'hv_map', 'np_map'])\n",
    "print(len(input_dataset))\n",
    "indices = [i for i in range(len(input_dataset))]  # 확인하고 싶은 index 리스트\n",
    "unique_values = np.unique(np.concatenate([input_dataset[i]['tp_map'].flatten() for i in indices]))\n",
    "print(unique_values)\n"
   ]
  },
  {
   "cell_type": "code",
   "execution_count": null,
   "metadata": {},
   "outputs": [],
   "source": [
    "module = importlib.import_module(\n",
    "    \"models.%s.opt\" % normal_Config['model_name']\n",
    ")\n",
    "model_config = module.get_config(normal_Config['nr_type'], normal_Config['model_mode'])"
   ]
  },
  {
   "cell_type": "code",
   "execution_count": 20,
   "metadata": {},
   "outputs": [
    {
     "name": "stdout",
     "output_type": "stream",
     "text": [
      "{'net': {'desc': <function get_config.<locals>.<lambda> at 0x7f80a4075b80>, 'optimizer': [<class 'torch.optim.adam.Adam'>, {'lr': 0.0001, 'betas': (0.9, 0.999)}], 'lr_scheduler': <function get_config.<locals>.<lambda> at 0x7f80a4075ca0>, 'extra_info': {'loss': {'np': {'bce': 1, 'dice': 1}, 'hv': {'mse': 1, 'msge': 1}, 'tp': {'bce': 1, 'dice': 1}}}, 'pretrained': './pretrained/ImageNet-ResNet50-Preact_pytorch.tar'}}\n",
      "{'net': {'desc': <function get_config.<locals>.<lambda> at 0x7f80e0145550>, 'optimizer': [<class 'torch.optim.adam.Adam'>, {'lr': 0.0001, 'betas': (0.9, 0.999)}], 'lr_scheduler': <function get_config.<locals>.<lambda> at 0x7f80e0145430>, 'extra_info': {'loss': {'np': {'bce': 1, 'dice': 1}, 'hv': {'mse': 1, 'msge': 1}, 'tp': {'bce': 1, 'dice': 1}}}, 'pretrained': -1}}\n"
     ]
    }
   ],
   "source": [
    "from models.base_hovernet.opt import get_config\n",
    "\n",
    "temp = get_config(8, 'train')\n",
    "for i in range(len(temp['phase_list'])):\n",
    "    print(temp['phase_list'][i]['run_info'])"
   ]
  },
  {
   "cell_type": "code",
   "execution_count": null,
   "metadata": {},
   "outputs": [],
   "source": [
    "from models.base_hovernet.utils import crop_to_shape, dice_loss, mse_loss, msge_loss, xentropy_loss"
   ]
  },
  {
   "cell_type": "code",
   "execution_count": null,
   "metadata": {},
   "outputs": [],
   "source": [
    "def train_step(batch_data)\n",
    "    # Move data to device\n",
    "    loss_"
   ]
  }
 ],
 "metadata": {
  "kernelspec": {
   "display_name": "Python 3",
   "language": "python",
   "name": "python3"
  },
  "language_info": {
   "codemirror_mode": {
    "name": "ipython",
    "version": 3
   },
   "file_extension": ".py",
   "mimetype": "text/x-python",
   "name": "python",
   "nbconvert_exporter": "python",
   "pygments_lexer": "ipython3",
   "version": "3.8.10"
  }
 },
 "nbformat": 4,
 "nbformat_minor": 2
}
